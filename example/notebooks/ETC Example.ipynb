{
 "cells": [
  {
   "cell_type": "markdown",
   "metadata": {},
   "source": [
    "# Example: end-to-end calculation"
   ]
  },
  {
   "cell_type": "code",
   "execution_count": 2,
   "metadata": {},
   "outputs": [
    {
     "name": "stdout",
     "output_type": "stream",
     "text": [
      "The autoreload extension is already loaded. To reload it, use:\n",
      "  %reload_ext autoreload\n",
      "##### starting to run ETC ... (it takes a few min.) #####\n",
      "##### finished (elapsed_time: 255.2[sec]) #####\n"
     ]
    },
    {
     "ename": "AttributeError",
     "evalue": "'Etc' object has no attribute 'nsm_nois'",
     "output_type": "error",
     "traceback": [
      "\u001b[0;31m---------------------------------------------------------------------------\u001b[0m",
      "\u001b[0;31mAttributeError\u001b[0m                            Traceback (most recent call last)",
      "\u001b[0;32m<ipython-input-2-3edc308097a4>\u001b[0m in \u001b[0;36m<module>\u001b[0;34m()\u001b[0m\n\u001b[1;32m     18\u001b[0m \u001b[0;34m\u001b[0m\u001b[0m\n\u001b[1;32m     19\u001b[0m \u001b[0;31m#etc.make_noise_model()\u001b[0m\u001b[0;34m\u001b[0m\u001b[0;34m\u001b[0m\u001b[0m\n\u001b[0;32m---> 20\u001b[0;31m \u001b[0;32mprint\u001b[0m\u001b[0;34m(\u001b[0m\u001b[0metc\u001b[0m\u001b[0;34m.\u001b[0m\u001b[0mnsm_nois\u001b[0m\u001b[0;34m)\u001b[0m\u001b[0;34m\u001b[0m\u001b[0m\n\u001b[0m\u001b[1;32m     21\u001b[0m \u001b[0;31m#etc.make_snc()\u001b[0m\u001b[0;34m\u001b[0m\u001b[0;34m\u001b[0m\u001b[0m\n\u001b[1;32m     22\u001b[0m \u001b[0;34m\u001b[0m\u001b[0m\n",
      "\u001b[0;31mAttributeError\u001b[0m: 'Etc' object has no attribute 'nsm_nois'"
     ]
    }
   ],
   "source": [
    "%matplotlib inline\n",
    "%load_ext autoreload\n",
    "%autoreload 2\n",
    "\n",
    "import matplotlib.pyplot as plt\n",
    "import scipy as sp\n",
    "\n",
    "from pfsspecsim import pfsetc\n",
    "\n",
    "etc = pfsetc.Etc()\n",
    "\n",
    "etc.set_param('OUTFILE_NOISE','out/ref.noise.dat')\n",
    "etc.set_param('OUTFILE_SNC','out/ref.snc.dat')\n",
    "etc.set_param('OUTFILE_SNL','out/ref.snl.dat')\n",
    "etc.set_param('OUTFILE_OII','out/ref.snoii.dat')\n",
    "\n",
    "etc.run()\n",
    "\n",
    "#etc.make_noise_model()\n",
    "print(etc.nsm_nois)\n",
    "#etc.make_snc()\n",
    "\n"
   ]
  },
  {
   "cell_type": "markdown",
   "metadata": {},
   "source": [
    "# Example: computing continuum SNR"
   ]
  },
  {
   "cell_type": "code",
   "execution_count": 31,
   "metadata": {},
   "outputs": [
    {
     "name": "stdout",
     "output_type": "stream",
     "text": [
      "The autoreload extension is already loaded. To reload it, use:\n",
      "  %reload_ext autoreload\n",
      "##### starting to make a noise model ... (it takes about 1 min.) #####\n",
      "##### finished (elapsed_time: 34.2[sec]) #####\n",
      "##### starting to make an SNC model ... (it takes about 30 sec.) #####\n",
      "##### finished (elapsed_time: 18.7[sec]) #####\n",
      "##### starting to make an SNL model ... (it takes about 30 sec.) #####\n",
      "##### finished (elapsed_time: 23.8[sec]) #####\n",
      "##### starting to make an OII model ... (it takes about 1 min.) #####\n",
      "##### finished (elapsed_time: 35.8[sec]) #####\n"
     ]
    },
    {
     "data": {
      "text/plain": [
       "0"
      ]
     },
     "execution_count": 31,
     "metadata": {},
     "output_type": "execute_result"
    }
   ],
   "source": [
    "%matplotlib inline\n",
    "%load_ext autoreload\n",
    "%autoreload 2\n",
    "\n",
    "import matplotlib.pyplot as plt\n",
    "import scipy as sp\n",
    "import pfsetc\n",
    "\n",
    "etc = pfsetc.Etc()\n",
    "\n",
    "etc.set_param('OUTFILE_NOISE','out/ref.noise.dat')\n",
    "etc.set_param('OUTFILE_SNC','out/ref.snc.dat')\n",
    "etc.set_param('OUTFILE_SNL','out/ref.snl.dat')\n",
    "etc.set_param('OUTFILE_OII','out/ref.sno2.dat')\n",
    "\n",
    "etc.make_noise_model()  # make noise model\n",
    "etc.make_snc()          # make S/N curve for continuum\n",
    "etc.make_snl()          # make S/N curve for an emission line\n",
    "etc.make_sno2()         # make S/N curve for an [OII] emission line\n"
   ]
  },
  {
   "cell_type": "code",
   "execution_count": 4,
   "metadata": {},
   "outputs": [
    {
     "name": "stdout",
     "output_type": "stream",
     "text": [
      "The autoreload extension is already loaded. To reload it, use:\n",
      "  %reload_ext autoreload\n"
     ]
    },
    {
     "data": {
      "image/png": "[encoded data removed]",
      "text/plain": [
       "<matplotlib.figure.Figure at 0x1147f4450>"
      ]
     },
     "metadata": {},
     "output_type": "display_data"
    },
    {
     "name": "stdout",
     "output_type": "stream",
     "text": [
      "ASCII table test was generated\n"
     ]
    },
    {
     "data": {
      "image/png": "[encoded data removed]",
      "text/plain": [
       "<matplotlib.figure.Figure at 0x117da4750>"
      ]
     },
     "metadata": {},
     "output_type": "display_data"
    },
    {
     "data": {
      "text/plain": [
       "0"
      ]
     },
     "execution_count": 4,
     "metadata": {},
     "output_type": "execute_result"
    }
   ],
   "source": [
    "%matplotlib inline\n",
    "%load_ext autoreload\n",
    "%autoreload 2\n",
    "\n",
    "import matplotlib.pyplot as plt\n",
    "import scipy as sp\n",
    "\n",
    "from pfsspecsim import pfsspec\n",
    "\n",
    "sim = pfsspec.Pfsspec()\n",
    "\n",
    "sim.set_param('MAG_FILE', 20.0)\n",
    "sim.set_param('EXP_NUM',16)\n",
    "sim.set_param('asciiTable','test')\n",
    "sim.set_param('nrealize',1)\n",
    "sim.set_param('plotObject','t')\n",
    "sim.set_param('plotArmSet','t')\n",
    "\n",
    "sim.make_sim_spec()\n"
   ]
  },
  {
   "cell_type": "code",
   "execution_count": null,
   "metadata": {
    "collapsed": true
   },
   "outputs": [],
   "source": []
  }
 ],
 "metadata": {
  "kernelspec": {
   "display_name": "Python 2",
   "language": "python",
   "name": "python2"
  },
  "language_info": {
   "codemirror_mode": {
    "name": "ipython",
    "version": 2
   },
   "file_extension": ".py",
   "mimetype": "text/x-python",
   "name": "python",
   "nbconvert_exporter": "python",
   "pygments_lexer": "ipython2",
   "version": "2.7.13"
  }
 },
 "nbformat": 4,
 "nbformat_minor": 1
}
